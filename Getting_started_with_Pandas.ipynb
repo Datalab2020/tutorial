{
  "nbformat": 4,
  "nbformat_minor": 0,
  "metadata": {
    "colab": {
      "name": "Getting started with Pandas.ipynb",
      "provenance": [],
      "collapsed_sections": [],
      "toc_visible": true,
      "authorship_tag": "ABX9TyPDglCsWvz/CVPb6cC34Hzs",
      "include_colab_link": true
    },
    "kernelspec": {
      "name": "python3",
      "display_name": "Python 3"
    }
  },
  "cells": [
    {
      "cell_type": "markdown",
      "metadata": {
        "id": "view-in-github",
        "colab_type": "text"
      },
      "source": [
        "<a href=\"https://colab.research.google.com/github/remijul/tutorial/blob/master/Getting_started_with_Pandas.ipynb\" target=\"_parent\"><img src=\"https://colab.research.google.com/assets/colab-badge.svg\" alt=\"Open In Colab\"/></a>"
      ]
    },
    {
      "cell_type": "markdown",
      "metadata": {
        "id": "Iem5COJFMZ5a"
      },
      "source": [
        "# Getting started with Pandas\n",
        "**pandas** is an open source, BSD-licensed library providing high-performance, easy-to-use data structures and data analysis tools for the **Python** programming language.  \n",
        "Source : [pandas.pydata.org](https://pandas.pydata.org/pandas-docs/stable/index.html)\n",
        "\n",
        "\n",
        "\n",
        "\n",
        "---"
      ]
    },
    {
      "cell_type": "markdown",
      "metadata": {
        "id": "wqCJYAstupXJ"
      },
      "source": [
        "# Data wrangling"
      ]
    },
    {
      "cell_type": "markdown",
      "metadata": {
        "id": "B-aKeUWYzmp-"
      },
      "source": [
        "## Import Pandas\n",
        "Pandas is easily imported with the `import` statement in Python and conventionaly converted with the alias `as pd`.  \n",
        "The `import` statement is the most common way of invoking the import machinery, when accessing Python code in one module.  Source : [Python.org](https://docs.python.org/3/reference/import.html) "
      ]
    },
    {
      "cell_type": "code",
      "metadata": {
        "id": "EHXe9Qdbzo0c"
      },
      "source": [
        "import pandas as pd"
      ],
      "execution_count": null,
      "outputs": []
    },
    {
      "cell_type": "markdown",
      "metadata": {
        "id": "mimrFTXTO7NC"
      },
      "source": [
        "## Import data\n",
        "Many features are available for importing data according to the source and the format of your dataset.  \n",
        "For this tutorial we are going to load a dataset stored in `.csv` format and available on Github.  \n",
        "This dataset relates to weather observations from 2009 to 2020 in Orléans City (France). Source : [historique-meteo.net](https://www.historique-meteo.net/)  \n",
        "Pandas dataset are nammed DataFrame : two-dimensional, size-mutable, potentially heterogeneous tabular data. "
      ]
    },
    {
      "cell_type": "code",
      "metadata": {
        "id": "UfObsKYkOlGy"
      },
      "source": [
        "url = \"https://raw.githubusercontent.com/remijul/dataset/master/weather_orleans_2009_2020.csv\"\n",
        "df = pd.read_csv(url)"
      ],
      "execution_count": null,
      "outputs": []
    },
    {
      "cell_type": "markdown",
      "metadata": {
        "id": "tfW4oXBE3Z0H"
      },
      "source": [
        "The `.head()` methods return the first `n` rows of the dataset.  \n",
        "Further arguments are available for this function."
      ]
    },
    {
      "cell_type": "code",
      "metadata": {
        "id": "6WjHC5R9PCul",
        "outputId": "4c3c9c4a-6873-4153-8db3-484e61cf9288",
        "colab": {
          "base_uri": "https://localhost:8080/",
          "height": 299
        }
      },
      "source": [
        "df.head()"
      ],
      "execution_count": null,
      "outputs": [
        {
          "output_type": "execute_result",
          "data": {
            "text/html": [
              "<div>\n",
              "<style scoped>\n",
              "    .dataframe tbody tr th:only-of-type {\n",
              "        vertical-align: middle;\n",
              "    }\n",
              "\n",
              "    .dataframe tbody tr th {\n",
              "        vertical-align: top;\n",
              "    }\n",
              "\n",
              "    .dataframe thead th {\n",
              "        text-align: right;\n",
              "    }\n",
              "</style>\n",
              "<table border=\"1\" class=\"dataframe\">\n",
              "  <thead>\n",
              "    <tr style=\"text-align: right;\">\n",
              "      <th></th>\n",
              "      <th>DATE</th>\n",
              "      <th>MAX_TEMPERATURE_C</th>\n",
              "      <th>MIN_TEMPERATURE_C</th>\n",
              "      <th>WINDSPEED_MAX_KMH</th>\n",
              "      <th>TEMPERATURE_MORNING_C</th>\n",
              "      <th>TEMPERATURE_NOON_C</th>\n",
              "      <th>TEMPERATURE_EVENING_C</th>\n",
              "      <th>PRECIP_TOTAL_DAY_MM</th>\n",
              "      <th>HUMIDITY_MAX_PERCENT</th>\n",
              "      <th>VISIBILITY_AVG_KM</th>\n",
              "      <th>PRESSURE_MAX_MB</th>\n",
              "      <th>CLOUDCOVER_AVG_PERCENT</th>\n",
              "      <th>HEATINDEX_MAX_C</th>\n",
              "      <th>DEWPOINT_MAX_C</th>\n",
              "      <th>WINDTEMP_MAX_C</th>\n",
              "      <th>WEATHER_CODE_MORNING</th>\n",
              "      <th>WEATHER_CODE_NOON</th>\n",
              "      <th>WEATHER_CODE_EVENING</th>\n",
              "      <th>TOTAL_SNOW_MM</th>\n",
              "      <th>UV_INDEX</th>\n",
              "      <th>SUNHOUR</th>\n",
              "      <th>OPINION</th>\n",
              "    </tr>\n",
              "  </thead>\n",
              "  <tbody>\n",
              "    <tr>\n",
              "      <th>0</th>\n",
              "      <td>2009-01-01</td>\n",
              "      <td>3</td>\n",
              "      <td>-2</td>\n",
              "      <td>14</td>\n",
              "      <td>-1</td>\n",
              "      <td>3</td>\n",
              "      <td>-2</td>\n",
              "      <td>0.0</td>\n",
              "      <td>91</td>\n",
              "      <td>6.75</td>\n",
              "      <td>1028</td>\n",
              "      <td>18.625</td>\n",
              "      <td>3</td>\n",
              "      <td>0</td>\n",
              "      <td>-5</td>\n",
              "      <td>143</td>\n",
              "      <td>113</td>\n",
              "      <td>113</td>\n",
              "      <td>0.0</td>\n",
              "      <td>1</td>\n",
              "      <td>8.7</td>\n",
              "      <td>météo très défavorable</td>\n",
              "    </tr>\n",
              "    <tr>\n",
              "      <th>1</th>\n",
              "      <td>2009-01-02</td>\n",
              "      <td>1</td>\n",
              "      <td>-3</td>\n",
              "      <td>19</td>\n",
              "      <td>-3</td>\n",
              "      <td>1</td>\n",
              "      <td>-2</td>\n",
              "      <td>0.0</td>\n",
              "      <td>84</td>\n",
              "      <td>10.00</td>\n",
              "      <td>1027</td>\n",
              "      <td>10.250</td>\n",
              "      <td>1</td>\n",
              "      <td>0</td>\n",
              "      <td>-8</td>\n",
              "      <td>113</td>\n",
              "      <td>113</td>\n",
              "      <td>113</td>\n",
              "      <td>0.0</td>\n",
              "      <td>1</td>\n",
              "      <td>8.7</td>\n",
              "      <td>météo très défavorable</td>\n",
              "    </tr>\n",
              "    <tr>\n",
              "      <th>2</th>\n",
              "      <td>2009-01-03</td>\n",
              "      <td>1</td>\n",
              "      <td>-3</td>\n",
              "      <td>22</td>\n",
              "      <td>-2</td>\n",
              "      <td>1</td>\n",
              "      <td>-3</td>\n",
              "      <td>0.0</td>\n",
              "      <td>85</td>\n",
              "      <td>10.00</td>\n",
              "      <td>1026</td>\n",
              "      <td>14.000</td>\n",
              "      <td>1</td>\n",
              "      <td>0</td>\n",
              "      <td>-8</td>\n",
              "      <td>113</td>\n",
              "      <td>113</td>\n",
              "      <td>113</td>\n",
              "      <td>0.0</td>\n",
              "      <td>1</td>\n",
              "      <td>8.7</td>\n",
              "      <td>météo très défavorable</td>\n",
              "    </tr>\n",
              "    <tr>\n",
              "      <th>3</th>\n",
              "      <td>2009-01-04</td>\n",
              "      <td>-1</td>\n",
              "      <td>-5</td>\n",
              "      <td>8</td>\n",
              "      <td>-5</td>\n",
              "      <td>-1</td>\n",
              "      <td>-4</td>\n",
              "      <td>0.0</td>\n",
              "      <td>68</td>\n",
              "      <td>10.00</td>\n",
              "      <td>1026</td>\n",
              "      <td>29.875</td>\n",
              "      <td>0</td>\n",
              "      <td>0</td>\n",
              "      <td>-7</td>\n",
              "      <td>113</td>\n",
              "      <td>116</td>\n",
              "      <td>119</td>\n",
              "      <td>0.0</td>\n",
              "      <td>1</td>\n",
              "      <td>6.9</td>\n",
              "      <td>météo très défavorable</td>\n",
              "    </tr>\n",
              "    <tr>\n",
              "      <th>4</th>\n",
              "      <td>2009-01-05</td>\n",
              "      <td>-1</td>\n",
              "      <td>-5</td>\n",
              "      <td>12</td>\n",
              "      <td>-4</td>\n",
              "      <td>-1</td>\n",
              "      <td>-2</td>\n",
              "      <td>1.8</td>\n",
              "      <td>85</td>\n",
              "      <td>8.00</td>\n",
              "      <td>1021</td>\n",
              "      <td>72.875</td>\n",
              "      <td>0</td>\n",
              "      <td>0</td>\n",
              "      <td>-7</td>\n",
              "      <td>116</td>\n",
              "      <td>122</td>\n",
              "      <td>122</td>\n",
              "      <td>1.5</td>\n",
              "      <td>1</td>\n",
              "      <td>3.3</td>\n",
              "      <td>météo très défavorable</td>\n",
              "    </tr>\n",
              "  </tbody>\n",
              "</table>\n",
              "</div>"
            ],
            "text/plain": [
              "         DATE  MAX_TEMPERATURE_C  ...  SUNHOUR                 OPINION\n",
              "0  2009-01-01                  3  ...      8.7  météo très défavorable\n",
              "1  2009-01-02                  1  ...      8.7  météo très défavorable\n",
              "2  2009-01-03                  1  ...      8.7  météo très défavorable\n",
              "3  2009-01-04                 -1  ...      6.9  météo très défavorable\n",
              "4  2009-01-05                 -1  ...      3.3  météo très défavorable\n",
              "\n",
              "[5 rows x 22 columns]"
            ]
          },
          "metadata": {
            "tags": []
          },
          "execution_count": 112
        }
      ]
    },
    {
      "cell_type": "markdown",
      "metadata": {
        "id": "M_NX_qlW33pG"
      },
      "source": [
        "##Inspect data\n",
        "One of the first steps to take is to become aware of the data in order to better understand their content and meaning.  \n",
        "Inspection allows to become aware of the data."
      ]
    },
    {
      "cell_type": "markdown",
      "metadata": {
        "id": "kKKWBjfH4Rw1"
      },
      "source": [
        "###Inspection\n",
        "Here some useful operations for better understanding of the dataset.  \n",
        "The [official Pandas documentation](https://pandas.pydata.org/pandas-docs/stable/reference/frame.html#attributes-and-underlying-data) lists all available operations."
      ]
    },
    {
      "cell_type": "markdown",
      "metadata": {
        "id": "yuZfdmVS5WCc"
      },
      "source": [
        "The index (row labels) of the DataFrame"
      ]
    },
    {
      "cell_type": "code",
      "metadata": {
        "id": "0kmT1ohx7fEQ"
      },
      "source": [
        "df.index"
      ],
      "execution_count": null,
      "outputs": []
    },
    {
      "cell_type": "markdown",
      "metadata": {
        "id": "t8slF-YF7iBJ"
      },
      "source": [
        "The column labels of the DataFrame."
      ]
    },
    {
      "cell_type": "code",
      "metadata": {
        "id": "3L0XZatW5WK5"
      },
      "source": [
        "df.columns"
      ],
      "execution_count": null,
      "outputs": []
    },
    {
      "cell_type": "markdown",
      "metadata": {
        "id": "3gMOCgzX8X8C"
      },
      "source": [
        "Return the data types in the DataFrame."
      ]
    },
    {
      "cell_type": "code",
      "metadata": {
        "id": "dTBR97Nu8SrY"
      },
      "source": [
        "df.dtypes"
      ],
      "execution_count": null,
      "outputs": []
    },
    {
      "cell_type": "markdown",
      "metadata": {
        "id": "vit-J1Ph7woB"
      },
      "source": [
        "Get some information about data and columns."
      ]
    },
    {
      "cell_type": "code",
      "metadata": {
        "id": "u87VjH6z33y6"
      },
      "source": [
        "df.info()"
      ],
      "execution_count": null,
      "outputs": []
    },
    {
      "cell_type": "markdown",
      "metadata": {
        "id": "aUKnOZuZ8bhQ"
      },
      "source": [
        "Return the number of elements in this object."
      ]
    },
    {
      "cell_type": "code",
      "metadata": {
        "id": "PpU8-UOs8brj"
      },
      "source": [
        "df.size"
      ],
      "execution_count": null,
      "outputs": []
    },
    {
      "cell_type": "markdown",
      "metadata": {
        "id": "QgxnWUJS8iJk"
      },
      "source": [
        "Return a tuple representing the dimensionality of the DataFrame."
      ]
    },
    {
      "cell_type": "code",
      "metadata": {
        "id": "E8Oo1s-u8iWz"
      },
      "source": [
        "df.shape"
      ],
      "execution_count": null,
      "outputs": []
    },
    {
      "cell_type": "markdown",
      "metadata": {
        "id": "RY0kg-_04iyI"
      },
      "source": [
        "Get information about some `Nan` values."
      ]
    },
    {
      "cell_type": "code",
      "metadata": {
        "id": "d40FG_Jh4i58"
      },
      "source": [
        "# The quantity of Nan\n",
        "data.isna().sum()"
      ],
      "execution_count": null,
      "outputs": []
    },
    {
      "cell_type": "code",
      "metadata": {
        "id": "2tFakl_T4tnd"
      },
      "source": [
        "# The proportion (percentage) of Nan\n",
        "data.isna().sum() / len(data)*100"
      ],
      "execution_count": null,
      "outputs": []
    },
    {
      "cell_type": "markdown",
      "metadata": {
        "id": "uoZlMmmE5Sxm"
      },
      "source": [
        "###Description\n",
        "Describing data means compute some descriptive indicators to get a synthetical representation of the data."
      ]
    },
    {
      "cell_type": "code",
      "metadata": {
        "id": "cVvRz9Hx5S6g"
      },
      "source": [
        "df.describe()"
      ],
      "execution_count": null,
      "outputs": []
    },
    {
      "cell_type": "markdown",
      "metadata": {
        "id": "pewVo4LF-BjS"
      },
      "source": [
        "By default only numerical features (variables) are included in the `.describe()` method. For complete description, the `include` argument / parameter is set to `'all'`"
      ]
    },
    {
      "cell_type": "code",
      "metadata": {
        "id": "dYG9UP4p-Bq2"
      },
      "source": [
        "df.describe(include='all')"
      ],
      "execution_count": null,
      "outputs": []
    },
    {
      "cell_type": "markdown",
      "metadata": {
        "id": "MRCGWj4Z-iXp"
      },
      "source": [
        "##Access to data\n",
        "Indexing operations are useful for accessing data based on index.  \n",
        "The [official Pandas documentation](https://pandas.pydata.org/pandas-docs/stable/reference/frame.html#indexing-iteration) lists all available operations."
      ]
    },
    {
      "cell_type": "markdown",
      "metadata": {
        "id": "qw6QwVmY_gH9"
      },
      "source": [
        "### The `.loc()` method\n",
        "Access a group of rows and columns by label(s) or a boolean array."
      ]
    },
    {
      "cell_type": "code",
      "metadata": {
        "id": "DTZ7ajjaAeAK"
      },
      "source": [
        "# The first row\n",
        "df.loc[0]"
      ],
      "execution_count": null,
      "outputs": []
    },
    {
      "cell_type": "code",
      "metadata": {
        "id": "xbjHPtsLAutN"
      },
      "source": [
        "# First even rows\n",
        "df.loc[0:6:2]"
      ],
      "execution_count": null,
      "outputs": []
    },
    {
      "cell_type": "code",
      "metadata": {
        "id": "Ja8ywhNG-igx"
      },
      "source": [
        "# A specific columns and all rows\n",
        "df.loc[:,\"TEMPERATURE_MORNING_C\"]"
      ],
      "execution_count": null,
      "outputs": []
    },
    {
      "cell_type": "code",
      "metadata": {
        "id": "slk-buv9BHsL"
      },
      "source": [
        "# Specific columns and rows\n",
        "df.loc[0:10, [\"TEMPERATURE_MORNING_C\", \"TEMPERATURE_NOON_C\"]]"
      ],
      "execution_count": null,
      "outputs": []
    },
    {
      "cell_type": "markdown",
      "metadata": {
        "id": "dlDIvBlIBGJa"
      },
      "source": [
        "###The `.iloc()` method\n",
        "Purely integer-location based indexing for selection by position."
      ]
    },
    {
      "cell_type": "code",
      "metadata": {
        "id": "du5se0klCfkO"
      },
      "source": [
        "# The first row\n",
        "df.iloc[0]"
      ],
      "execution_count": null,
      "outputs": []
    },
    {
      "cell_type": "code",
      "metadata": {
        "id": "UZmlqxXeCFyv"
      },
      "source": [
        "# A specific columns and all rows\n",
        "df.iloc[:, 1]"
      ],
      "execution_count": null,
      "outputs": []
    },
    {
      "cell_type": "code",
      "metadata": {
        "id": "LPwBVnEfC10C"
      },
      "source": [
        "# Specific columns and rows\n",
        "df.iloc[0:10, 0:2]"
      ],
      "execution_count": null,
      "outputs": []
    },
    {
      "cell_type": "code",
      "metadata": {
        "id": "-YvQUyM7DLui"
      },
      "source": [
        "# Specific columns and rows\n",
        "df.iloc[[0, 2], [0, 2]]"
      ],
      "execution_count": null,
      "outputs": []
    },
    {
      "cell_type": "markdown",
      "metadata": {
        "id": "yiZtkvSQDZHL"
      },
      "source": [
        "###The `.isin()` method\n",
        "Whether each element in the DataFrame is contained in values."
      ]
    },
    {
      "cell_type": "code",
      "metadata": {
        "id": "QNVZ-7lmDi7g"
      },
      "source": [
        "# Is the 0 value contained in the differents columns ?\n",
        "df.isin([0])"
      ],
      "execution_count": null,
      "outputs": []
    },
    {
      "cell_type": "code",
      "metadata": {
        "id": "YFsf1WhzD7jG"
      },
      "source": [
        "#Are the [0,1,2,3] values contained in the differents columns ?\n",
        "df.isin([0,1,2,3])"
      ],
      "execution_count": null,
      "outputs": []
    },
    {
      "cell_type": "code",
      "metadata": {
        "id": "LIahUcBSELEp"
      },
      "source": [
        "# Is the \"météo très défavorable\" value contained in the \"OPINION\" column only ?\n",
        "df.isin({\"OPINION\": [\"météo très défavorable\"]})"
      ],
      "execution_count": null,
      "outputs": []
    },
    {
      "cell_type": "markdown",
      "metadata": {
        "id": "h9l992vhE-o5"
      },
      "source": [
        "###The `.where()` method\n",
        "Replace values where the condition is False."
      ]
    },
    {
      "cell_type": "code",
      "metadata": {
        "id": "J4WGe3c8E-y9"
      },
      "source": [
        "# Where the max temperature is greater than 10?\n",
        "df['MAX_TEMPERATURE_C'].where(df['MAX_TEMPERATURE_C'] > 10)"
      ],
      "execution_count": null,
      "outputs": []
    },
    {
      "cell_type": "markdown",
      "metadata": {
        "id": "O6DV1WGmGlQE"
      },
      "source": [
        "##Aggregation and grouping data\n",
        "Aggregation data means combining data from several observations. When data is aggregated, groups of observations are summarised with summary statistics.  \n",
        "The [official Pandas documentation](https://pandas.pydata.org/pandas-docs/stable/reference/frame.html#function-application-groupby-window) lists all available operations.\n"
      ]
    },
    {
      "cell_type": "markdown",
      "metadata": {
        "id": "nxTQXxMjIrG2"
      },
      "source": [
        "Aggregate using one or more operations over the specified axis."
      ]
    },
    {
      "cell_type": "code",
      "metadata": {
        "id": "fC2k2azZHU65"
      },
      "source": [
        "# For the mean (average) of each columns\n",
        "df.agg('mean')"
      ],
      "execution_count": null,
      "outputs": []
    },
    {
      "cell_type": "code",
      "metadata": {
        "id": "x59vfZukHnm3"
      },
      "source": [
        "# For 3 different statistics of each columns\n",
        "df.agg(['min', 'mean', 'max'])"
      ],
      "execution_count": null,
      "outputs": []
    },
    {
      "cell_type": "code",
      "metadata": {
        "id": "TH7_gQ_aH6Pr"
      },
      "source": [
        "# For specific statistics accordingly the columns name\n",
        "df.agg({'TEMPERATURE_MORNING_C' : 'min',\n",
        "        'TEMPERATURE_NOON_C' : ['mean', 'median'],\n",
        "        'TEMPERATURE_EVENING_C' : 'max'})"
      ],
      "execution_count": null,
      "outputs": []
    },
    {
      "cell_type": "markdown",
      "metadata": {
        "id": "EqdX08c_IoNV"
      },
      "source": [
        "Group DataFrame using a mapper or by a Series of columns."
      ]
    },
    {
      "cell_type": "code",
      "metadata": {
        "id": "v3WJIGV-IoWz",
        "outputId": "6a6c983d-aca3-4f98-9e24-9ef00e40172f",
        "colab": {
          "base_uri": "https://localhost:8080/",
          "height": 329
        }
      },
      "source": [
        "df.groupby(['OPINION']).mean()"
      ],
      "execution_count": null,
      "outputs": [
        {
          "output_type": "execute_result",
          "data": {
            "text/html": [
              "<div>\n",
              "<style scoped>\n",
              "    .dataframe tbody tr th:only-of-type {\n",
              "        vertical-align: middle;\n",
              "    }\n",
              "\n",
              "    .dataframe tbody tr th {\n",
              "        vertical-align: top;\n",
              "    }\n",
              "\n",
              "    .dataframe thead th {\n",
              "        text-align: right;\n",
              "    }\n",
              "</style>\n",
              "<table border=\"1\" class=\"dataframe\">\n",
              "  <thead>\n",
              "    <tr style=\"text-align: right;\">\n",
              "      <th></th>\n",
              "      <th>MAX_TEMPERATURE_C</th>\n",
              "      <th>MIN_TEMPERATURE_C</th>\n",
              "      <th>WINDSPEED_MAX_KMH</th>\n",
              "      <th>TEMPERATURE_MORNING_C</th>\n",
              "      <th>TEMPERATURE_NOON_C</th>\n",
              "      <th>TEMPERATURE_EVENING_C</th>\n",
              "      <th>PRECIP_TOTAL_DAY_MM</th>\n",
              "      <th>HUMIDITY_MAX_PERCENT</th>\n",
              "      <th>VISIBILITY_AVG_KM</th>\n",
              "      <th>PRESSURE_MAX_MB</th>\n",
              "      <th>CLOUDCOVER_AVG_PERCENT</th>\n",
              "      <th>HEATINDEX_MAX_C</th>\n",
              "      <th>DEWPOINT_MAX_C</th>\n",
              "      <th>WINDTEMP_MAX_C</th>\n",
              "      <th>WEATHER_CODE_MORNING</th>\n",
              "      <th>WEATHER_CODE_NOON</th>\n",
              "      <th>WEATHER_CODE_EVENING</th>\n",
              "      <th>TOTAL_SNOW_MM</th>\n",
              "      <th>UV_INDEX</th>\n",
              "      <th>SUNHOUR</th>\n",
              "    </tr>\n",
              "    <tr>\n",
              "      <th>OPINION</th>\n",
              "      <th></th>\n",
              "      <th></th>\n",
              "      <th></th>\n",
              "      <th></th>\n",
              "      <th></th>\n",
              "      <th></th>\n",
              "      <th></th>\n",
              "      <th></th>\n",
              "      <th></th>\n",
              "      <th></th>\n",
              "      <th></th>\n",
              "      <th></th>\n",
              "      <th></th>\n",
              "      <th></th>\n",
              "      <th></th>\n",
              "      <th></th>\n",
              "      <th></th>\n",
              "      <th></th>\n",
              "      <th></th>\n",
              "      <th></th>\n",
              "    </tr>\n",
              "  </thead>\n",
              "  <tbody>\n",
              "    <tr>\n",
              "      <th>météo correcte</th>\n",
              "      <td>17.722286</td>\n",
              "      <td>9.187429</td>\n",
              "      <td>15.700571</td>\n",
              "      <td>10.185143</td>\n",
              "      <td>17.024000</td>\n",
              "      <td>14.696000</td>\n",
              "      <td>0.838971</td>\n",
              "      <td>75.100571</td>\n",
              "      <td>8.934000</td>\n",
              "      <td>1019.866286</td>\n",
              "      <td>42.049429</td>\n",
              "      <td>18.264000</td>\n",
              "      <td>11.442286</td>\n",
              "      <td>12.939429</td>\n",
              "      <td>136.012571</td>\n",
              "      <td>123.049143</td>\n",
              "      <td>121.238857</td>\n",
              "      <td>0.000000</td>\n",
              "      <td>1.0</td>\n",
              "      <td>10.917029</td>\n",
              "    </tr>\n",
              "    <tr>\n",
              "      <th>météo défavorable</th>\n",
              "      <td>14.989848</td>\n",
              "      <td>9.795685</td>\n",
              "      <td>19.554569</td>\n",
              "      <td>10.838832</td>\n",
              "      <td>14.335025</td>\n",
              "      <td>12.975888</td>\n",
              "      <td>2.667893</td>\n",
              "      <td>87.171320</td>\n",
              "      <td>8.059803</td>\n",
              "      <td>1016.223350</td>\n",
              "      <td>77.312500</td>\n",
              "      <td>15.239848</td>\n",
              "      <td>11.776650</td>\n",
              "      <td>10.714467</td>\n",
              "      <td>155.772843</td>\n",
              "      <td>137.651015</td>\n",
              "      <td>145.390863</td>\n",
              "      <td>0.000000</td>\n",
              "      <td>1.0</td>\n",
              "      <td>7.497335</td>\n",
              "    </tr>\n",
              "    <tr>\n",
              "      <th>météo favorable</th>\n",
              "      <td>22.915800</td>\n",
              "      <td>11.937630</td>\n",
              "      <td>13.271310</td>\n",
              "      <td>13.204782</td>\n",
              "      <td>22.104990</td>\n",
              "      <td>19.462578</td>\n",
              "      <td>0.380249</td>\n",
              "      <td>67.363825</td>\n",
              "      <td>9.257536</td>\n",
              "      <td>1020.727651</td>\n",
              "      <td>24.521050</td>\n",
              "      <td>24.068607</td>\n",
              "      <td>14.266112</td>\n",
              "      <td>18.255717</td>\n",
              "      <td>126.256757</td>\n",
              "      <td>114.640333</td>\n",
              "      <td>117.880457</td>\n",
              "      <td>0.000000</td>\n",
              "      <td>1.0</td>\n",
              "      <td>12.899896</td>\n",
              "    </tr>\n",
              "    <tr>\n",
              "      <th>météo idéale</th>\n",
              "      <td>28.664062</td>\n",
              "      <td>16.828125</td>\n",
              "      <td>13.125000</td>\n",
              "      <td>18.140625</td>\n",
              "      <td>27.804688</td>\n",
              "      <td>24.882812</td>\n",
              "      <td>0.313281</td>\n",
              "      <td>62.484375</td>\n",
              "      <td>9.616211</td>\n",
              "      <td>1018.859375</td>\n",
              "      <td>12.927734</td>\n",
              "      <td>29.546875</td>\n",
              "      <td>17.789062</td>\n",
              "      <td>23.890625</td>\n",
              "      <td>120.406250</td>\n",
              "      <td>113.000000</td>\n",
              "      <td>119.046875</td>\n",
              "      <td>0.000000</td>\n",
              "      <td>1.0</td>\n",
              "      <td>13.707031</td>\n",
              "    </tr>\n",
              "    <tr>\n",
              "      <th>météo très défavorable</th>\n",
              "      <td>7.147490</td>\n",
              "      <td>1.528185</td>\n",
              "      <td>18.023938</td>\n",
              "      <td>2.189961</td>\n",
              "      <td>6.555985</td>\n",
              "      <td>4.442471</td>\n",
              "      <td>1.110656</td>\n",
              "      <td>84.023938</td>\n",
              "      <td>8.719788</td>\n",
              "      <td>1020.422394</td>\n",
              "      <td>53.353282</td>\n",
              "      <td>7.352124</td>\n",
              "      <td>3.965251</td>\n",
              "      <td>0.467181</td>\n",
              "      <td>136.316602</td>\n",
              "      <td>123.737452</td>\n",
              "      <td>130.015444</td>\n",
              "      <td>0.038533</td>\n",
              "      <td>1.0</td>\n",
              "      <td>7.235985</td>\n",
              "    </tr>\n",
              "  </tbody>\n",
              "</table>\n",
              "</div>"
            ],
            "text/plain": [
              "                        MAX_TEMPERATURE_C  ...    SUNHOUR\n",
              "OPINION                                    ...           \n",
              "météo correcte                  17.722286  ...  10.917029\n",
              "météo défavorable               14.989848  ...   7.497335\n",
              "météo favorable                 22.915800  ...  12.899896\n",
              "météo idéale                    28.664062  ...  13.707031\n",
              "météo très défavorable           7.147490  ...   7.235985\n",
              "\n",
              "[5 rows x 20 columns]"
            ]
          },
          "metadata": {
            "tags": []
          },
          "execution_count": 139
        }
      ]
    },
    {
      "cell_type": "code",
      "metadata": {
        "id": "O9NTqyKAJBJP"
      },
      "source": [
        "df.groupby(['OPINION']).mean()[['TEMPERATURE_NOON_C', 'PRECIP_TOTAL_DAY_MM', 'WINDSPEED_MAX_KMH', 'SUNHOUR']]"
      ],
      "execution_count": null,
      "outputs": []
    },
    {
      "cell_type": "markdown",
      "metadata": {
        "id": "ar6V2ZN4Tnwc"
      },
      "source": [
        "## Exercices\n",
        "\n",
        "![your_turn_gatsby.jpg](data:image/jpeg;base64,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)"
      ]
    },
    {
      "cell_type": "markdown",
      "metadata": {
        "id": "Gzg8u61iNpyU"
      },
      "source": [
        "The goal of this exercice is to :\n",
        "- Return the first 15 rows of the dataframe.\n",
        "- Return the last 15 rows of the dataframe wit other method than the `.head()` method. *Tip : Query the web you will do.*\n",
        "- What are the data types of the columns `MAX_TEMPERATURE_C`, `UV_INDEX` and `OPINION` ?\n",
        "- Return the column `OPINION`.\n",
        "- Return the colums `MAX_TEMPERATURE_C`, `UV_INDEX` and `OPINION`.\n",
        "- Return the last 2 columns.\n",
        "- Is the value `3` contained in the column `UV_INDEX` ?\n",
        "- Give the following statistics `min`, `mean` and `max` by grouping the `UV_INDEX` column. *Tip : Query the web you will do.*"
      ]
    },
    {
      "cell_type": "markdown",
      "metadata": {
        "id": "19ifslPauwUX"
      },
      "source": [
        "# Descriptive statistics\n",
        "Descriptive statistic is a summary statistic that quantitatively describes or summarizes features from a collection of information (i.e dataset).  \n",
        "The [official Pandas documentation](https://pandas.pydata.org/pandas-docs/stable/reference/frame.html#computations-descriptive-stats) lists all available operations.\n"
      ]
    },
    {
      "cell_type": "markdown",
      "metadata": {
        "id": "XHLAb4IvvHbW"
      },
      "source": [
        "##Positional indicators\n"
      ]
    },
    {
      "cell_type": "markdown",
      "metadata": {
        "id": "L1bLy1CmvQzv"
      },
      "source": [
        "Mean :"
      ]
    },
    {
      "cell_type": "code",
      "metadata": {
        "id": "7cnmednBvOWC",
        "outputId": "ac008f49-a28a-44d5-ddbf-b2035ec1c233",
        "colab": {
          "base_uri": "https://localhost:8080/",
          "height": 34
        }
      },
      "source": [
        "df['TEMPERATURE_NOON_C'].mean()"
      ],
      "execution_count": null,
      "outputs": [
        {
          "output_type": "execute_result",
          "data": {
            "text/plain": [
              "14.700098814229248"
            ]
          },
          "metadata": {
            "tags": []
          },
          "execution_count": 85
        }
      ]
    },
    {
      "cell_type": "markdown",
      "metadata": {
        "id": "6OIGIHmAvV4d"
      },
      "source": [
        "Median :"
      ]
    },
    {
      "cell_type": "code",
      "metadata": {
        "id": "8N2-sfN5vWAZ",
        "outputId": "2cf58768-6b29-434b-d11a-6f2af2fd5bfc",
        "colab": {
          "base_uri": "https://localhost:8080/",
          "height": 34
        }
      },
      "source": [
        "df['TEMPERATURE_NOON_C'].median()"
      ],
      "execution_count": null,
      "outputs": [
        {
          "output_type": "execute_result",
          "data": {
            "text/plain": [
              "15.0"
            ]
          },
          "metadata": {
            "tags": []
          },
          "execution_count": 87
        }
      ]
    },
    {
      "cell_type": "markdown",
      "metadata": {
        "id": "3MS_EiTEvZou"
      },
      "source": [
        "Mode : "
      ]
    },
    {
      "cell_type": "code",
      "metadata": {
        "id": "0RJT75rgvZxi",
        "outputId": "02bc1414-0c64-4fa8-da40-14cddad999bf",
        "colab": {
          "base_uri": "https://localhost:8080/",
          "height": 70
        }
      },
      "source": [
        "df['TEMPERATURE_NOON_C'].mode()"
      ],
      "execution_count": null,
      "outputs": [
        {
          "output_type": "execute_result",
          "data": {
            "text/plain": [
              "0     9\n",
              "1    10\n",
              "dtype: int64"
            ]
          },
          "metadata": {
            "tags": []
          },
          "execution_count": 86
        }
      ]
    },
    {
      "cell_type": "markdown",
      "metadata": {
        "id": "zIcJ4qTuvezs"
      },
      "source": [
        "Quantiles :"
      ]
    },
    {
      "cell_type": "code",
      "metadata": {
        "id": "SWKzAORTvgQP",
        "outputId": "95c3d338-9f86-4ef7-a7db-6041172447f4",
        "colab": {
          "base_uri": "https://localhost:8080/",
          "height": 122
        }
      },
      "source": [
        "df['TEMPERATURE_NOON_C'].quantile(q=[0.05,0.25,0.5,0.75,0.95])"
      ],
      "execution_count": null,
      "outputs": [
        {
          "output_type": "execute_result",
          "data": {
            "text/plain": [
              "0.05     3.0\n",
              "0.25     9.0\n",
              "0.50    15.0\n",
              "0.75    20.0\n",
              "0.95    27.0\n",
              "Name: TEMPERATURE_NOON_C, dtype: float64"
            ]
          },
          "metadata": {
            "tags": []
          },
          "execution_count": 90
        }
      ]
    },
    {
      "cell_type": "markdown",
      "metadata": {
        "id": "PaCaOUFbwaEK"
      },
      "source": [
        "Count :"
      ]
    },
    {
      "cell_type": "code",
      "metadata": {
        "id": "i7M40MNWwbOG",
        "outputId": "ceb98952-5212-45f3-87e9-a0e58792927f",
        "colab": {
          "base_uri": "https://localhost:8080/",
          "height": 34
        }
      },
      "source": [
        "df['TEMPERATURE_NOON_C'].count()"
      ],
      "execution_count": null,
      "outputs": [
        {
          "output_type": "execute_result",
          "data": {
            "text/plain": [
              "4048"
            ]
          },
          "metadata": {
            "tags": []
          },
          "execution_count": 93
        }
      ]
    },
    {
      "cell_type": "markdown",
      "metadata": {
        "id": "AELkUkCawhot"
      },
      "source": [
        "Value count :"
      ]
    },
    {
      "cell_type": "code",
      "metadata": {
        "id": "PToZNQ2OwkzJ",
        "outputId": "b4ba5ddb-9d95-4ee7-c832-d3d0e39003aa",
        "colab": {
          "base_uri": "https://localhost:8080/",
          "height": 122
        }
      },
      "source": [
        "df['OPINION'].value_counts()"
      ],
      "execution_count": null,
      "outputs": [
        {
          "output_type": "execute_result",
          "data": {
            "text/plain": [
              "météo très défavorable    1295\n",
              "météo favorable            962\n",
              "météo correcte             875\n",
              "météo défavorable          788\n",
              "météo idéale               128\n",
              "Name: OPINION, dtype: int64"
            ]
          },
          "metadata": {
            "tags": []
          },
          "execution_count": 94
        }
      ]
    },
    {
      "cell_type": "markdown",
      "metadata": {
        "id": "GiWKoa8yvzSm"
      },
      "source": [
        "##Statistical dispersion"
      ]
    },
    {
      "cell_type": "markdown",
      "metadata": {
        "id": "NumiRhpiv1fw"
      },
      "source": [
        "Standard deviation :"
      ]
    },
    {
      "cell_type": "code",
      "metadata": {
        "id": "sXHjE3IAv1m7",
        "outputId": "7d76cc1a-32e0-4002-aa03-dea4389c369c",
        "colab": {
          "base_uri": "https://localhost:8080/",
          "height": 34
        }
      },
      "source": [
        "df['TEMPERATURE_NOON_C'].std()"
      ],
      "execution_count": null,
      "outputs": [
        {
          "output_type": "execute_result",
          "data": {
            "text/plain": [
              "7.384125379861788"
            ]
          },
          "metadata": {
            "tags": []
          },
          "execution_count": 91
        }
      ]
    },
    {
      "cell_type": "markdown",
      "metadata": {
        "id": "NVJYiu3HwLnn"
      },
      "source": [
        "Variance :"
      ]
    },
    {
      "cell_type": "code",
      "metadata": {
        "id": "QfJKORA-wM9m",
        "outputId": "734063c3-7115-420f-87ae-e8e409d48a01",
        "colab": {
          "base_uri": "https://localhost:8080/",
          "height": 34
        }
      },
      "source": [
        "df['TEMPERATURE_NOON_C'].var()"
      ],
      "execution_count": null,
      "outputs": [
        {
          "output_type": "execute_result",
          "data": {
            "text/plain": [
              "54.525307625519005"
            ]
          },
          "metadata": {
            "tags": []
          },
          "execution_count": 92
        }
      ]
    },
    {
      "cell_type": "markdown",
      "metadata": {
        "id": "9ynGM5iJw0Ov"
      },
      "source": [
        "##Correlation\n",
        "In statistics, correlation or dependence is any statistical relationship, whether causal or not, between two random variables or bivariate data. Source : [Wikipedia](https://en.wikipedia.org/wiki/Correlation_and_dependence)"
      ]
    },
    {
      "cell_type": "code",
      "metadata": {
        "id": "5EFrQGK-xEpa",
        "outputId": "878e65d7-5852-4607-f6fb-70a47cf1a363",
        "colab": {
          "base_uri": "https://localhost:8080/",
          "height": 136
        }
      },
      "source": [
        "df[['TEMPERATURE_NOON_C', 'TEMPERATURE_EVENING_C', 'SUNHOUR']].corr()"
      ],
      "execution_count": null,
      "outputs": [
        {
          "output_type": "execute_result",
          "data": {
            "text/html": [
              "<div>\n",
              "<style scoped>\n",
              "    .dataframe tbody tr th:only-of-type {\n",
              "        vertical-align: middle;\n",
              "    }\n",
              "\n",
              "    .dataframe tbody tr th {\n",
              "        vertical-align: top;\n",
              "    }\n",
              "\n",
              "    .dataframe thead th {\n",
              "        text-align: right;\n",
              "    }\n",
              "</style>\n",
              "<table border=\"1\" class=\"dataframe\">\n",
              "  <thead>\n",
              "    <tr style=\"text-align: right;\">\n",
              "      <th></th>\n",
              "      <th>TEMPERATURE_NOON_C</th>\n",
              "      <th>TEMPERATURE_EVENING_C</th>\n",
              "      <th>SUNHOUR</th>\n",
              "    </tr>\n",
              "  </thead>\n",
              "  <tbody>\n",
              "    <tr>\n",
              "      <th>TEMPERATURE_NOON_C</th>\n",
              "      <td>1.000000</td>\n",
              "      <td>0.967388</td>\n",
              "      <td>0.694955</td>\n",
              "    </tr>\n",
              "    <tr>\n",
              "      <th>TEMPERATURE_EVENING_C</th>\n",
              "      <td>0.967388</td>\n",
              "      <td>1.000000</td>\n",
              "      <td>0.658612</td>\n",
              "    </tr>\n",
              "    <tr>\n",
              "      <th>SUNHOUR</th>\n",
              "      <td>0.694955</td>\n",
              "      <td>0.658612</td>\n",
              "      <td>1.000000</td>\n",
              "    </tr>\n",
              "  </tbody>\n",
              "</table>\n",
              "</div>"
            ],
            "text/plain": [
              "                       TEMPERATURE_NOON_C  TEMPERATURE_EVENING_C   SUNHOUR\n",
              "TEMPERATURE_NOON_C               1.000000               0.967388  0.694955\n",
              "TEMPERATURE_EVENING_C            0.967388               1.000000  0.658612\n",
              "SUNHOUR                          0.694955               0.658612  1.000000"
            ]
          },
          "metadata": {
            "tags": []
          },
          "execution_count": 101
        }
      ]
    },
    {
      "cell_type": "markdown",
      "metadata": {
        "id": "FjXfXdQywBWX"
      },
      "source": [
        "#Graphical description\n",
        "There are many possibilities for exploring, describing and summarizing a dataset graphically. The choice of the type of graph depends mainly on the nature of the data:\n",
        "- quantitative data: boxplot, histogram, scatterplot, heatmap, paiplot, hierarchical clustering ...\n",
        "- qualitative data: pieplot, barplot, ...  \n",
        "  \n",
        "The [official Pandas documentation](https://pandas.pydata.org/pandas-docs/stable/reference/frame.html#plotting) lists all available operations.\n",
        "  \n",
        "Moreover some helpful tips and examples for choosing the best chart for your data: [From Data To Viz](https://www.data-to-viz.com/)"
      ]
    },
    {
      "cell_type": "markdown",
      "metadata": {
        "id": "WpVR81dgx__O"
      },
      "source": [
        "###Quantitative data\n"
      ]
    },
    {
      "cell_type": "markdown",
      "metadata": {
        "id": "emwGJmU2yj9p"
      },
      "source": [
        "####Scatter plot"
      ]
    },
    {
      "cell_type": "code",
      "metadata": {
        "id": "AnCQS0BiymE9",
        "outputId": "f52e5b6e-df72-4966-cbbd-d4e1da199555",
        "colab": {
          "base_uri": "https://localhost:8080/",
          "height": 302
        }
      },
      "source": [
        "df.plot.scatter(x='TEMPERATURE_MORNING_C', y='TEMPERATURE_NOON_C', c='Orange')"
      ],
      "execution_count": null,
      "outputs": [
        {
          "output_type": "execute_result",
          "data": {
            "text/plain": [
              "<matplotlib.axes._subplots.AxesSubplot at 0x7f40756fce48>"
            ]
          },
          "metadata": {
            "tags": []
          },
          "execution_count": 106
        },
        {
          "output_type": "display_data",
          "data": {
            "image/png": "[encoded data removed]",
            "text/plain": [
              "<Figure size 432x288 with 1 Axes>"
            ]
          },
          "metadata": {
            "tags": [],
            "needs_background": "light"
          }
        }
      ]
    },
    {
      "cell_type": "markdown",
      "metadata": {
        "id": "9mrabFmJzjUg"
      },
      "source": [
        "####Line plot"
      ]
    },
    {
      "cell_type": "code",
      "metadata": {
        "id": "9_7YLYZ2zlJY",
        "outputId": "33cb7b3d-819a-48a5-8fc9-f04adb06b541",
        "colab": {
          "base_uri": "https://localhost:8080/",
          "height": 301
        }
      },
      "source": [
        "df.plot.line(x='DATE', y='TEMPERATURE_NOON_C', c='Blue')"
      ],
      "execution_count": null,
      "outputs": [
        {
          "output_type": "execute_result",
          "data": {
            "text/plain": [
              "<matplotlib.axes._subplots.AxesSubplot at 0x7f407529dba8>"
            ]
          },
          "metadata": {
            "tags": []
          },
          "execution_count": 115
        },
        {
          "output_type": "display_data",
          "data": {
            "image/png": "[encoded data removed]",
            "text/plain": [
              "<Figure size 432x288 with 1 Axes>"
            ]
          },
          "metadata": {
            "tags": [],
            "needs_background": "light"
          }
        }
      ]
    },
    {
      "cell_type": "code",
      "metadata": {
        "id": "E1YtCaFp1UZ3",
        "outputId": "3bf53bba-49b5-4546-9853-e7a3acc750e2",
        "colab": {
          "base_uri": "https://localhost:8080/",
          "height": 286
        }
      },
      "source": [
        "df[['TEMPERATURE_NOON_C', 'SUNHOUR']].plot.line()"
      ],
      "execution_count": null,
      "outputs": [
        {
          "output_type": "execute_result",
          "data": {
            "text/plain": [
              "<matplotlib.axes._subplots.AxesSubplot at 0x7f4074c5e390>"
            ]
          },
          "metadata": {
            "tags": []
          },
          "execution_count": 126
        },
        {
          "output_type": "display_data",
          "data": {
            "image/png": "[encoded data removed]",
            "text/plain": [
              "<Figure size 432x288 with 1 Axes>"
            ]
          },
          "metadata": {
            "tags": [],
            "needs_background": "light"
          }
        }
      ]
    },
    {
      "cell_type": "markdown",
      "metadata": {
        "id": "rsYKFtNQyEog"
      },
      "source": [
        "####Boxplot"
      ]
    },
    {
      "cell_type": "code",
      "metadata": {
        "id": "BVxhBZ99yIM0",
        "outputId": "3d995312-72cb-4a93-974f-775ed6aa7f7e",
        "colab": {
          "base_uri": "https://localhost:8080/",
          "height": 288
        }
      },
      "source": [
        "df['TEMPERATURE_NOON_C'].plot.box()"
      ],
      "execution_count": null,
      "outputs": [
        {
          "output_type": "execute_result",
          "data": {
            "text/plain": [
              "<matplotlib.axes._subplots.AxesSubplot at 0x7f4075d294a8>"
            ]
          },
          "metadata": {
            "tags": []
          },
          "execution_count": 102
        },
        {
          "output_type": "display_data",
          "data": {
            "image/png": "[encoded data removed]",
            "text/plain": [
              "<Figure size 432x288 with 1 Axes>"
            ]
          },
          "metadata": {
            "tags": [],
            "needs_background": "light"
          }
        }
      ]
    },
    {
      "cell_type": "code",
      "metadata": {
        "id": "XA17MKPVyTj7",
        "outputId": "f9a2794b-6d1c-4635-abc8-939a3509b25d",
        "colab": {
          "base_uri": "https://localhost:8080/",
          "height": 284
        }
      },
      "source": [
        "df[['TEMPERATURE_MORNING_C','TEMPERATURE_NOON_C', 'TEMPERATURE_EVENING_C']].plot.box()"
      ],
      "execution_count": null,
      "outputs": [
        {
          "output_type": "execute_result",
          "data": {
            "text/plain": [
              "<matplotlib.axes._subplots.AxesSubplot at 0x7f4075ebb7b8>"
            ]
          },
          "metadata": {
            "tags": []
          },
          "execution_count": 104
        },
        {
          "output_type": "display_data",
          "data": {
            "image/png": "[encoded data removed]",
            "text/plain": [
              "<Figure size 432x288 with 1 Axes>"
            ]
          },
          "metadata": {
            "tags": [],
            "needs_background": "light"
          }
        }
      ]
    },
    {
      "cell_type": "markdown",
      "metadata": {
        "id": "ss3bZbDEyhL7"
      },
      "source": [
        "####Histogram\n"
      ]
    },
    {
      "cell_type": "code",
      "metadata": {
        "id": "wF7x1LHCzJ1O",
        "outputId": "1f16f509-69f5-4a12-c9e2-066c797d36f3",
        "colab": {
          "base_uri": "https://localhost:8080/",
          "height": 282
        }
      },
      "source": [
        "df[['TEMPERATURE_MORNING_C','TEMPERATURE_NOON_C']].plot.hist(alpha=0.3)"
      ],
      "execution_count": null,
      "outputs": [
        {
          "output_type": "execute_result",
          "data": {
            "text/plain": [
              "<matplotlib.axes._subplots.AxesSubplot at 0x7f407541dda0>"
            ]
          },
          "metadata": {
            "tags": []
          },
          "execution_count": 110
        },
        {
          "output_type": "display_data",
          "data": {
            "image/png": "[encoded data removed]",
            "text/plain": [
              "<Figure size 432x288 with 1 Axes>"
            ]
          },
          "metadata": {
            "tags": [],
            "needs_background": "light"
          }
        }
      ]
    },
    {
      "cell_type": "markdown",
      "metadata": {
        "id": "HhJcT2jazcAn"
      },
      "source": [
        "####Density"
      ]
    },
    {
      "cell_type": "code",
      "metadata": {
        "id": "0QhgVQmUzcIv",
        "outputId": "72303e4a-33f3-421d-c093-37d177f7afd1",
        "colab": {
          "base_uri": "https://localhost:8080/",
          "height": 282
        }
      },
      "source": [
        "df[['TEMPERATURE_MORNING_C','TEMPERATURE_NOON_C', 'TEMPERATURE_EVENING_C']].plot.kde()"
      ],
      "execution_count": null,
      "outputs": [
        {
          "output_type": "execute_result",
          "data": {
            "text/plain": [
              "<matplotlib.axes._subplots.AxesSubplot at 0x7f406b418da0>"
            ]
          },
          "metadata": {
            "tags": []
          },
          "execution_count": 128
        },
        {
          "output_type": "display_data",
          "data": {
            "image/png": "[encoded data removed]",
            "text/plain": [
              "<Figure size 432x288 with 1 Axes>"
            ]
          },
          "metadata": {
            "tags": [],
            "needs_background": "light"
          }
        }
      ]
    },
    {
      "cell_type": "markdown",
      "metadata": {
        "id": "l5Cq-Yu916nf"
      },
      "source": [
        "###Qualitative data"
      ]
    },
    {
      "cell_type": "markdown",
      "metadata": {
        "id": "MvU97VJK3Gll"
      },
      "source": [
        "Pie plot"
      ]
    },
    {
      "cell_type": "code",
      "metadata": {
        "id": "yawzMsej36TX",
        "outputId": "42fed175-7e5c-4682-c0bf-75f021a642c7",
        "colab": {
          "base_uri": "https://localhost:8080/",
          "height": 321
        }
      },
      "source": [
        "data = df.groupby(['OPINION']).mean()['TEMPERATURE_NOON_C']\n",
        "data.plot.pie(figsize=(5, 5))"
      ],
      "execution_count": null,
      "outputs": [
        {
          "output_type": "execute_result",
          "data": {
            "text/plain": [
              "<matplotlib.axes._subplots.AxesSubplot at 0x7f40666ad080>"
            ]
          },
          "metadata": {
            "tags": []
          },
          "execution_count": 143
        },
        {
          "output_type": "display_data",
          "data": {
            "image/png": "[encoded data removed]",
            "text/plain": [
              "<Figure size 360x360 with 1 Axes>"
            ]
          },
          "metadata": {
            "tags": []
          }
        }
      ]
    },
    {
      "cell_type": "markdown",
      "metadata": {
        "id": "5xiL9dxs1_uQ"
      },
      "source": [
        "####Bar plot\n"
      ]
    },
    {
      "cell_type": "code",
      "metadata": {
        "id": "JwMswUnC2DHb",
        "outputId": "b7f36c2b-d6c4-437f-f3e9-33208d910a00",
        "colab": {
          "base_uri": "https://localhost:8080/",
          "height": 297
        }
      },
      "source": [
        "data = df.groupby(['OPINION']).mean()['TEMPERATURE_NOON_C']\n",
        "data.plot.bar(x='OPINION', y='TEMPERATURE_NOON_C', rot=0)"
      ],
      "execution_count": null,
      "outputs": [
        {
          "output_type": "execute_result",
          "data": {
            "text/plain": [
              "<matplotlib.axes._subplots.AxesSubplot at 0x7f406b2083c8>"
            ]
          },
          "metadata": {
            "tags": []
          },
          "execution_count": 144
        },
        {
          "output_type": "display_data",
          "data": {
            "image/png": "[encoded data removed]",
            "text/plain": [
              "<Figure size 432x288 with 1 Axes>"
            ]
          },
          "metadata": {
            "tags": [],
            "needs_background": "light"
          }
        }
      ]
    },
    {
      "cell_type": "code",
      "metadata": {
        "id": "zPrXViVL4XDq",
        "outputId": "cd73a7de-bcf3-476a-eb83-0cb4a19e0725",
        "colab": {
          "base_uri": "https://localhost:8080/",
          "height": 404
        }
      },
      "source": [
        "data = df.groupby(['OPINION']).mean()[['TEMPERATURE_NOON_C', 'TEMPERATURE_MORNING_C']]\n",
        "data.plot.bar(stacked=True)"
      ],
      "execution_count": null,
      "outputs": [
        {
          "output_type": "execute_result",
          "data": {
            "text/plain": [
              "<matplotlib.axes._subplots.AxesSubplot at 0x7f4063334d30>"
            ]
          },
          "metadata": {
            "tags": []
          },
          "execution_count": 152
        },
        {
          "output_type": "display_data",
          "data": {
            "image/png": "[encoded data removed]",
            "text/plain": [
              "<Figure size 432x288 with 1 Axes>"
            ]
          },
          "metadata": {
            "tags": [],
            "needs_background": "light"
          }
        }
      ]
    },
    {
      "cell_type": "code",
      "metadata": {
        "id": "XH_k0ENa4qOw",
        "outputId": "6b1c50de-8a5f-4b68-a34a-116a7c42e5af",
        "colab": {
          "base_uri": "https://localhost:8080/",
          "height": 455
        }
      },
      "source": [
        "data = df.groupby(['OPINION']).mean()[['TEMPERATURE_NOON_C', 'TEMPERATURE_MORNING_C']]\n",
        "data.plot.bar(subplots=True)"
      ],
      "execution_count": null,
      "outputs": [
        {
          "output_type": "execute_result",
          "data": {
            "text/plain": [
              "array([<matplotlib.axes._subplots.AxesSubplot object at 0x7f4065cc8518>,\n",
              "       <matplotlib.axes._subplots.AxesSubplot object at 0x7f4066a16320>],\n",
              "      dtype=object)"
            ]
          },
          "metadata": {
            "tags": []
          },
          "execution_count": 151
        },
        {
          "output_type": "display_data",
          "data": {
            "image/png": "[encoded data removed]",
            "text/plain": [
              "<Figure size 432x288 with 2 Axes>"
            ]
          },
          "metadata": {
            "tags": [],
            "needs_background": "light"
          }
        }
      ]
    },
    {
      "cell_type": "markdown",
      "metadata": {
        "id": "NEPEQpNA40MG"
      },
      "source": [
        "####Horizontal barplot"
      ]
    },
    {
      "cell_type": "code",
      "metadata": {
        "id": "GG6vFRjW4tEg",
        "outputId": "d4b7825a-3b11-4351-8466-ca1defdb73b6",
        "colab": {
          "base_uri": "https://localhost:8080/",
          "height": 282
        }
      },
      "source": [
        "data = df.groupby(['OPINION']).mean()[['TEMPERATURE_NOON_C', 'TEMPERATURE_MORNING_C']]\n",
        "data.plot.barh(stacked=True)"
      ],
      "execution_count": null,
      "outputs": [
        {
          "output_type": "execute_result",
          "data": {
            "text/plain": [
              "<matplotlib.axes._subplots.AxesSubplot at 0x7f40668289e8>"
            ]
          },
          "metadata": {
            "tags": []
          },
          "execution_count": 153
        },
        {
          "output_type": "display_data",
          "data": {
            "image/png": "[encoded data removed]",
            "text/plain": [
              "<Figure size 432x288 with 1 Axes>"
            ]
          },
          "metadata": {
            "tags": [],
            "needs_background": "light"
          }
        }
      ]
    },
    {
      "cell_type": "markdown",
      "metadata": {
        "id": "O7qMnwzWPH_s"
      },
      "source": [
        "## Ressources\n",
        "- The awesome offical Pandas documentation [pandas.pydata.org](https://pandas.pydata.org/pandas-docs/stable/index.html)."
      ]
    },
    {
      "cell_type": "markdown",
      "metadata": {
        "id": "A8yQDWiQzbTS"
      },
      "source": [
        ""
      ]
    },
    {
      "cell_type": "markdown",
      "metadata": {
        "id": "Q0GDp3kGPERt"
      },
      "source": [
        "\n",
        "\n",
        "---\n",
        "Did you love it ? [Please visit my website](http://www.dcid-consulting.fr/) and lets' get in touch for special needs : consultancy, dedicated training, cut-in-the-edge development, etc.  \n",
        "![logo_web.png](data:image/png;base64,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)  \n",
        "Data science | Machine learning | Data analytics | Dataviz  "
      ]
    }
  ]
}